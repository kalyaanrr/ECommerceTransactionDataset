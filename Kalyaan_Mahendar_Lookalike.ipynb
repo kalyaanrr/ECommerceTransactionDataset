{
  "nbformat": 4,
  "nbformat_minor": 0,
  "metadata": {
    "colab": {
      "provenance": [],
      "authorship_tag": "ABX9TyPK5mwQkQb1N/d5O7gCqm0p",
      "include_colab_link": true
    },
    "kernelspec": {
      "name": "python3",
      "display_name": "Python 3"
    },
    "language_info": {
      "name": "python"
    }
  },
  "cells": [
    {
      "cell_type": "markdown",
      "metadata": {
        "id": "view-in-github",
        "colab_type": "text"
      },
      "source": [
        "<a href=\"https://colab.research.google.com/github/kalyaanrr/ECommerceTransactionDataset/blob/main/Kalyaan_Mahendar_Lookalike.ipynb\" target=\"_parent\"><img src=\"https://colab.research.google.com/assets/colab-badge.svg\" alt=\"Open In Colab\"/></a>"
      ]
    },
    {
      "cell_type": "markdown",
      "source": [
        "Model Used for the given task is **Cosine Similarity**.\n",
        "\n",
        "*   **Definition**: Cosine Similarity is a model, that measures the cosing of the angle between two vectors in a multidimensional space.\n",
        "\n",
        "*   **Formula**: Cosine Similarity = (A.B) / (||A||.||B||)\n",
        "             \n",
        "Where **A** and **B** are feature vectors of two customers.\n",
        "\n",
        "**Steps to use Cosine Similarity**\n",
        "\n",
        "*   Convert each customer's data into a feature vector.\n",
        "\n",
        "*   Calculate pairwise cosine similarity scores of all customer pairs.\n",
        "\n",
        "*   For each customer, rank all other customers basedon their similarity score.\n",
        "\n",
        "*   Recommend the top 3 similar customers along with their scores.\n",
        "\n",
        "**Why Cosine Similarity is been used ?**\n",
        "\n",
        "\n",
        "*   **Scalability** : Computationallyefficient and works with sparse or high-dimensional data (Transaction history).\n",
        "*   **Interpretability:** The scores aree normalized betweeen 0 and 1, making them easy to interpret.\n",
        "*   **Relevance**: Focuses on relationship between features, aligns well with the objective of finding similar customers.\n",
        "\n",
        "\n",
        "\n"
      ],
      "metadata": {
        "id": "_z1FA4T6SSWp"
      }
    },
    {
      "cell_type": "code",
      "source": [
        "import pandas as pd\n",
        "import matplotlib.pyplot as plt\n",
        "import seaborn as sns\n",
        "\n",
        "customers = pd.read_csv('Customers.csv')\n",
        "products = pd.read_csv('Products.csv')\n",
        "transactions = pd.read_csv('Transactions.csv')\n",
        "\n",
        "merged_data = pd.merge(transactions,customers,on='CustomerID')\n",
        "merged_data = pd.merge(merged_data,products,on='ProductID')\n",
        "merged_data.rename(columns={'Price_x':'ProductPrice','Price_y':'TransactionPrice'},inplace=True)"
      ],
      "metadata": {
        "id": "1eSNgh_vOhnU"
      },
      "execution_count": 4,
      "outputs": []
    },
    {
      "cell_type": "code",
      "execution_count": 3,
      "metadata": {
        "id": "ZMvjzwrQ7skq"
      },
      "outputs": [],
      "source": [
        "from sklearn.metrics.pairwise import cosine_similarity\n",
        "from sklearn.preprocessing import MinMaxScaler\n",
        "\n",
        "customer_product = merged_data.pivot_table(\n",
        "    index = 'CustomerID', columns = 'ProductName', values = 'TotalValue',aggfunc='sum', fill_value = 0\n",
        ")\n",
        "\n",
        "scalar = MinMaxScaler()\n",
        "normalized_data = scalar.fit_transform(customer_product)\n",
        "similarity_score = cosine_similarity(normalized_data)\n",
        "similarity_df = pd.DataFrame(similarity_score,index=customer_product.index,columns=customer_product.index)\n",
        "lookalik = {}\n",
        "for customer in customer_product.index[:20]:\n",
        "  similar_customers = similarity_df[customer].sort_values(ascending=False).iloc[1:4]\n",
        "  lookalik[customer] =[(idx,score) for idx,score in similar_customers.items()]\n",
        "lookalike_df = pd.DataFrame([\n",
        "    {'CustomerID':cust,'Lookalikes':str(data)}\n",
        "    for cust,data in lookalik.items()\n",
        "])\n",
        "lookalike_df.to_csv(\"Kalyaan_Mahendar_Lookalike.csv\",index=False)"
      ]
    },
    {
      "cell_type": "code",
      "source": [],
      "metadata": {
        "id": "FGuos2ShOvvM"
      },
      "execution_count": null,
      "outputs": []
    }
  ]
}